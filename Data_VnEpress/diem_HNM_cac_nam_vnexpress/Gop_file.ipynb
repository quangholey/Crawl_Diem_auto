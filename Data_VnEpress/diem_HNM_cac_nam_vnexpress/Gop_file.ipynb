{
 "cells": [
  {
   "cell_type": "code",
   "execution_count": 4,
   "metadata": {},
   "outputs": [],
   "source": [
    "import pandas as pd\n",
    "import os"
   ]
  },
  {
   "cell_type": "code",
   "execution_count": 5,
   "metadata": {},
   "outputs": [],
   "source": [
    "df= pd.read_csv(f'diem_HNM_nam_2024_vnexpress.csv')\n",
    "df.to_csv('Tong_hop_HNM.csv')"
   ]
  },
  {
   "cell_type": "code",
   "execution_count": 6,
   "metadata": {},
   "outputs": [],
   "source": [
    "Year=['2023','2022','2021','2020','2019','2018','2017','2016']\n",
    "Ma_truong=['HNM','VKU']\n",
    "for i in Year:\n",
    "    df= pd.read_csv(f'diem_HNM_nam_{i}_vnexpress.csv')\n",
    "    if i!=2024:\n",
    "        df.drop(0,inplace=True)\n",
    "    df.to_csv('Tong_hop_HNM.csv', mode='a',index=False ,encoding=\"utf-8\")"
   ]
  }
 ],
 "metadata": {
  "kernelspec": {
   "display_name": "sic",
   "language": "python",
   "name": "python3"
  },
  "language_info": {
   "codemirror_mode": {
    "name": "ipython",
    "version": 3
   },
   "file_extension": ".py",
   "mimetype": "text/x-python",
   "name": "python",
   "nbconvert_exporter": "python",
   "pygments_lexer": "ipython3",
   "version": "3.7.1"
  }
 },
 "nbformat": 4,
 "nbformat_minor": 2
}
