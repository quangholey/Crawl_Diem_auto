{
 "cells": [
  {
   "cell_type": "code",
   "execution_count": 1,
   "metadata": {},
   "outputs": [],
   "source": [
    "from selenium import webdriver\n",
    "from selenium.webdriver.common.by import By\n",
    "from selenium.webdriver.common.keys import Keys\n",
    "from selenium.webdriver.chrome.service import Service\n",
    "from selenium.webdriver.common.by import By\n",
    "from selenium.webdriver.support.ui import Select\n",
    "from selenium.webdriver.common.action_chains import ActionChains\n",
    "from selenium.webdriver.support.ui import WebDriverWait\n",
    "from selenium.webdriver.support import expected_conditions as EC\n",
    "import pandas as pd\n",
    "import time\n",
    "from datetime import datetime\n",
    "import numpy as np\n",
    "\n",
    "data = pd.read_table('Ma_ten_truong_DH.txt')\n",
    "matruong=[]\n",
    "kyhieumatruong=[]\n",
    "with open('Ma_ten_truong_DH.txt', 'r', encoding='utf-8') as file:\n",
    "    lines = file.readlines()\n",
    "for i in lines:\n",
    "    matruong.append(i.split(' - ')[0]) #0 lấy trước dấu '-' 1 sẽ lấy sau '-'\n",
    "for i in matruong:\n",
    "    kyhieumatruong.append(i)"
   ]
  },
  {
   "cell_type": "code",
   "execution_count": 2,
   "metadata": {},
   "outputs": [
    {
     "ename": "NoSuchDriverException",
     "evalue": "Message: Unable to locate or obtain driver for chrome; For documentation on this error, please visit: https://www.selenium.dev/documentation/webdriver/troubleshooting/errors/driver_location\n",
     "output_type": "error",
     "traceback": [
      "\u001b[1;31m---------------------------------------------------------------------------\u001b[0m",
      "\u001b[1;31mNoSuchDriverException\u001b[0m                     Traceback (most recent call last)",
      "\u001b[1;32m~\\AppData\\Local\\Temp\\ipykernel_34828\\1246546654.py\u001b[0m in \u001b[0;36m<module>\u001b[1;34m\u001b[0m\n\u001b[0;32m      1\u001b[0m \u001b[1;31m# Đường dẫn tới ChromeDriver\u001b[0m\u001b[1;33m\u001b[0m\u001b[1;33m\u001b[0m\u001b[1;33m\u001b[0m\u001b[0m\n\u001b[0;32m      2\u001b[0m \u001b[0mservice\u001b[0m \u001b[1;33m=\u001b[0m \u001b[0mService\u001b[0m\u001b[1;33m(\u001b[0m\u001b[1;34mr\"C:\\Users\\QUANGHONEY\\Desktop\\Code\\Crawl_tuyensinh247\\chromedriver-win64\\chromedriver.exe\"\u001b[0m\u001b[1;33m)\u001b[0m\u001b[1;33m\u001b[0m\u001b[1;33m\u001b[0m\u001b[0m\n\u001b[1;32m----> 3\u001b[1;33m \u001b[0mdriver\u001b[0m \u001b[1;33m=\u001b[0m \u001b[0mwebdriver\u001b[0m\u001b[1;33m.\u001b[0m\u001b[0mChrome\u001b[0m\u001b[1;33m(\u001b[0m\u001b[0mservice\u001b[0m\u001b[1;33m=\u001b[0m\u001b[0mservice\u001b[0m\u001b[1;33m)\u001b[0m\u001b[1;33m\u001b[0m\u001b[1;33m\u001b[0m\u001b[0m\n\u001b[0m\u001b[0;32m      4\u001b[0m \u001b[1;33m\u001b[0m\u001b[0m\n\u001b[0;32m      5\u001b[0m \u001b[1;31m# Mở trang web\u001b[0m\u001b[1;33m\u001b[0m\u001b[1;33m\u001b[0m\u001b[1;33m\u001b[0m\u001b[0m\n",
      "\u001b[1;32mc:\\Users\\QUANGHONEY\\anaconda3\\envs\\sic\\lib\\site-packages\\selenium\\webdriver\\chrome\\webdriver.py\u001b[0m in \u001b[0;36m__init__\u001b[1;34m(self, options, service, keep_alive)\u001b[0m\n\u001b[0;32m     48\u001b[0m             \u001b[0moptions\u001b[0m\u001b[1;33m,\u001b[0m\u001b[1;33m\u001b[0m\u001b[1;33m\u001b[0m\u001b[0m\n\u001b[0;32m     49\u001b[0m             \u001b[0mservice\u001b[0m\u001b[1;33m,\u001b[0m\u001b[1;33m\u001b[0m\u001b[1;33m\u001b[0m\u001b[0m\n\u001b[1;32m---> 50\u001b[1;33m             \u001b[0mkeep_alive\u001b[0m\u001b[1;33m,\u001b[0m\u001b[1;33m\u001b[0m\u001b[1;33m\u001b[0m\u001b[0m\n\u001b[0m\u001b[0;32m     51\u001b[0m         )\n",
      "\u001b[1;32mc:\\Users\\QUANGHONEY\\anaconda3\\envs\\sic\\lib\\site-packages\\selenium\\webdriver\\chromium\\webdriver.py\u001b[0m in \u001b[0;36m__init__\u001b[1;34m(self, browser_name, vendor_prefix, options, service, keep_alive)\u001b[0m\n\u001b[0;32m     49\u001b[0m         \u001b[0mself\u001b[0m\u001b[1;33m.\u001b[0m\u001b[0mservice\u001b[0m \u001b[1;33m=\u001b[0m \u001b[0mservice\u001b[0m\u001b[1;33m\u001b[0m\u001b[1;33m\u001b[0m\u001b[0m\n\u001b[0;32m     50\u001b[0m \u001b[1;33m\u001b[0m\u001b[0m\n\u001b[1;32m---> 51\u001b[1;33m         \u001b[0mself\u001b[0m\u001b[1;33m.\u001b[0m\u001b[0mservice\u001b[0m\u001b[1;33m.\u001b[0m\u001b[0mpath\u001b[0m \u001b[1;33m=\u001b[0m \u001b[0mDriverFinder\u001b[0m\u001b[1;33m.\u001b[0m\u001b[0mget_path\u001b[0m\u001b[1;33m(\u001b[0m\u001b[0mself\u001b[0m\u001b[1;33m.\u001b[0m\u001b[0mservice\u001b[0m\u001b[1;33m,\u001b[0m \u001b[0moptions\u001b[0m\u001b[1;33m)\u001b[0m\u001b[1;33m\u001b[0m\u001b[1;33m\u001b[0m\u001b[0m\n\u001b[0m\u001b[0;32m     52\u001b[0m \u001b[1;33m\u001b[0m\u001b[0m\n\u001b[0;32m     53\u001b[0m         \u001b[0mself\u001b[0m\u001b[1;33m.\u001b[0m\u001b[0mservice\u001b[0m\u001b[1;33m.\u001b[0m\u001b[0mstart\u001b[0m\u001b[1;33m(\u001b[0m\u001b[1;33m)\u001b[0m\u001b[1;33m\u001b[0m\u001b[1;33m\u001b[0m\u001b[0m\n",
      "\u001b[1;32mc:\\Users\\QUANGHONEY\\anaconda3\\envs\\sic\\lib\\site-packages\\selenium\\webdriver\\common\\driver_finder.py\u001b[0m in \u001b[0;36mget_path\u001b[1;34m(service, options)\u001b[0m\n\u001b[0;32m     42\u001b[0m \u001b[1;33m\u001b[0m\u001b[0m\n\u001b[0;32m     43\u001b[0m         \u001b[1;32mif\u001b[0m \u001b[0mpath\u001b[0m \u001b[1;32mis\u001b[0m \u001b[1;32mNone\u001b[0m \u001b[1;32mor\u001b[0m \u001b[1;32mnot\u001b[0m \u001b[0mPath\u001b[0m\u001b[1;33m(\u001b[0m\u001b[0mpath\u001b[0m\u001b[1;33m)\u001b[0m\u001b[1;33m.\u001b[0m\u001b[0mis_file\u001b[0m\u001b[1;33m(\u001b[0m\u001b[1;33m)\u001b[0m\u001b[1;33m:\u001b[0m\u001b[1;33m\u001b[0m\u001b[1;33m\u001b[0m\u001b[0m\n\u001b[1;32m---> 44\u001b[1;33m             \u001b[1;32mraise\u001b[0m \u001b[0mNoSuchDriverException\u001b[0m\u001b[1;33m(\u001b[0m\u001b[1;34mf\"Unable to locate or obtain driver for {options.capabilities['browserName']}\"\u001b[0m\u001b[1;33m)\u001b[0m\u001b[1;33m\u001b[0m\u001b[1;33m\u001b[0m\u001b[0m\n\u001b[0m\u001b[0;32m     45\u001b[0m \u001b[1;33m\u001b[0m\u001b[0m\n\u001b[0;32m     46\u001b[0m         \u001b[1;32mreturn\u001b[0m \u001b[0mpath\u001b[0m\u001b[1;33m\u001b[0m\u001b[1;33m\u001b[0m\u001b[0m\n",
      "\u001b[1;31mNoSuchDriverException\u001b[0m: Message: Unable to locate or obtain driver for chrome; For documentation on this error, please visit: https://www.selenium.dev/documentation/webdriver/troubleshooting/errors/driver_location\n"
     ]
    }
   ],
   "source": [
    "# Đường dẫn tới ChromeDriver\n",
    "service = Service(r\"C:\\Users\\QUANGHONEY\\Desktop\\Code\\NCKH_Crawl_Data\\chromedriver-win64\\chromedriver.exe\")\n",
    "driver = webdriver.Chrome(service=service)\n",
    "\n",
    "# Mở trang web\n",
    "driver.get('https://diemthi.vnexpress.net/tra-cuu-dai-hoc')\n",
    "\n",
    "# Tìm ô input và nhập mã trường\n",
    "#input_field = driver.find_element(By.CSS_SELECTOR, \"#input_college\")\n",
    "input_field = driver.find_element(By.CSS_SELECTOR, 'input[type=\"text\"]')\n",
    "\n",
    "input_field.clear()\n",
    "input_field.send_keys(f'{kyhieumatruong[0]}')\n",
    "input_field.send_keys(Keys.RETURN)\n",
    "\n",
    "time.sleep(5)# nghỉ 60s để load nốt trang nếu không sẽ lấy data của trang chưa load lại hết chỉ lấy đươcj 59\n",
    "\n",
    "Link = driver.find_elements(By.XPATH, \"//div[@class='lookup__result-name']//a\")\n",
    "print(len(Link))\n",
    "first_link=Link[0]\n",
    "#Chuyển đến tab khác để tránh kích hoạt quảng cáo\n",
    "driver.execute_script(\"window.open(arguments[0].href, '_blank');\", first_link)\n",
    "# Chuyển sự theo dõi của selenium sang tab mới nếu không chuyển selenium sẽ vẫn ở tab cũ tab gõ dcn window_handles[-1] giúp chuyển sang tab cuối cùng theo định dạng id các tab\n",
    "driver.switch_to.window(driver.window_handles[-1])\n",
    "time.sleep(30)# nghỉ 60s để load nốt trang nếu không sẽ lấy data của trang chưa load lại hết chỉ lấy đươcj 59\n",
    "\n",
    "\n"
   ]
  },
  {
   "cell_type": "code",
   "execution_count": 3,
   "metadata": {},
   "outputs": [],
   "source": [
    "\n",
    "# # Tìm dropdown chọn năm\n",
    "# dropdown = driver.find_element(By.ID, 'select2-select_year-container')  # Sử dụng ID hoặc cách khác để tìm element\n",
    "\n",
    "# # Nếu dropdown được xây dựng bằng <select>:\n",
    "# select = Select(dropdown)  # Tạo đối tượng Select\n",
    "\n",
    "# # Chọn năm bằng cách chọn theo visible text (ví dụ: \"Năm 2024\")\n",
    "# select.select_by_visible_text(\"Năm 2024\")\n",
    "\n",
    "# # Hoặc chọn theo giá trị (nếu có)\n",
    "# # select.select_by_value('2024')\n",
    "\n",
    "# # Nếu bạn cần lấy dữ liệu sau khi chọn năm, bạn có thể tiếp tục tương tác với trang web\n"
   ]
  },
  {
   "cell_type": "code",
   "execution_count": 4,
   "metadata": {},
   "outputs": [],
   "source": [
    "# # Click vào dropdown chọn năm (ở đây là <span>)\n",
    "# dropdown = driver.find_element(By.ID, 'select2-select_year-container')\n",
    "# dropdown.click()\n",
    "\n",
    "# # Tìm và chọn năm 2024 trong danh sách (tìm theo text hiển thị)\n",
    "# year_option = driver.find_element(By.XPATH, \"//li[text()='2023']\")\n",
    "# year_option.click()\n",
    "\n",
    "# # Chờ thêm để trang tải dữ liệu sau khi chọn năm (tùy thuộc vào trang, có thể cần chờ vài giây)\n",
    "# time.sleep(2)\n"
   ]
  },
  {
   "cell_type": "code",
   "execution_count": 5,
   "metadata": {},
   "outputs": [],
   "source": [
    "# dropdown.click(): Mở danh sách các năm bằng cách click vào phần tử <span>.\n",
    "# WebDriverWait: Chờ cho đến khi phần tử tương ứng (năm 2023) có thể click được.\n",
    "# year_option.click(): Chọn năm 2023 từ danh sách\n",
    "# # Đợi trang tải và phần tử có thể click\n",
    "dropdown = WebDriverWait(driver, 10).until(\n",
    "    EC.element_to_be_clickable((By.ID, 'select2-select_year-container'))\n",
    ")\n",
    "\n",
    "# Click vào dropdown để mở danh sách\n",
    "dropdown.click()\n",
    "a=2024\n",
    "# Chờ cho đến khi các mục dropdown hiển thị và tìm mục có text \"2023\"\n",
    "year_option = WebDriverWait(driver, 10).until(\n",
    "    EC.element_to_be_clickable((By.XPATH, f\"//li[contains(text(), '{a}')]\"))\n",
    ")\n",
    "\n",
    "# Click vào mục năm 2023\n",
    "year_option.click()\n",
    "\n",
    "# Thêm thời gian chờ nếu cần thiết để trang tải dữ liệu sau khi chọn năm\n",
    "time.sleep(2)\n"
   ]
  },
  {
   "cell_type": "code",
   "execution_count": 6,
   "metadata": {},
   "outputs": [],
   "source": [
    "# Lấy tất cả các rows trong bảng, bỏ qua những hàng có class 'university__benchmark university__benchmark--chart'\n",
    "div = driver.find_element(By.XPATH, \"//table[@class='university__table']\")\n",
    "rows = div.find_elements(By.XPATH, \".//tr[not(contains(@class, 'university__benchmark--chart'))]\")\n",
    "thead = div.find_element(By.XPATH, \".//thead\")\n",
    "ths = thead.find_elements(By.XPATH, \".//tr//th\")\n",
    "\n",
    "#rows = driver.find_elements(By.XPATH, \"//table[@class='university__table']//tr[not(contains(@class, 'university__benchmark--chart'))]\")\n",
    "diem=[]\n",
    "th_data = [th.text for th in ths]\n",
    "\n",
    "# Duyệt qua các hàng để in dữ liệu\n",
    "for row in rows:\n",
    "    # cols = row.find_elements(By.XPATH, \".//td\")\n",
    "    cols = row.find_elements(By.TAG_NAME, 'td')\n",
    "    row_data = [col.text for col in cols]#Lambda để lưu dữ liệu crawl được theo từng row\n",
    "    # Thêm dữ liệu vào danh sách theo theo từng row của data\n",
    "    diem.append(row_data)\n",
    "    # for col in cols:\n",
    "    #     diem.append(col.text)\n",
    "    #     diem.append(',')\n",
    "    # diem.append('\\n')\n",
    "#Dùng THS làm tiêu đề cho dataframe\n",
    "df = pd.DataFrame(diem, columns=th_data)\n",
    "df.drop(0, inplace=True)\n",
    "df.to_csv(f'diem_{kyhieumatruong[0]}_nam_{a}_vnexpress.csv',index=False)"
   ]
  }
 ],
 "metadata": {
  "kernelspec": {
   "display_name": "sic",
   "language": "python",
   "name": "python3"
  },
  "language_info": {
   "codemirror_mode": {
    "name": "ipython",
    "version": 3
   },
   "file_extension": ".py",
   "mimetype": "text/x-python",
   "name": "python",
   "nbconvert_exporter": "python",
   "pygments_lexer": "ipython3",
   "version": "3.7.1"
  }
 },
 "nbformat": 4,
 "nbformat_minor": 2
}
