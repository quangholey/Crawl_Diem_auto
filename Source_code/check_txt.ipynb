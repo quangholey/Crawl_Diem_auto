{
 "cells": [
  {
   "cell_type": "code",
   "execution_count": 9,
   "metadata": {},
   "outputs": [
    {
     "name": "stdout",
     "output_type": "stream",
     "text": [
      "YHT\n",
      "YHT\n"
     ]
    }
   ],
   "source": [
    "import pandas as pd\n",
    "data = pd.read_table('Ma_ten_truong_DH.txt')\n",
    "matruong=[]\n",
    "matruong_1=[]\n",
    "with open('Ma_ten_truong_DH.txt', 'r', encoding='utf-8') as file:\n",
    "    lines = file.readlines()\n",
    "for i in lines:\n",
    "    matruong.append(i.split(' - ')[0]) #0 lấy trước dấu '-' 1 sẽ lấy sau '-'\n",
    "for i in matruong:\n",
    "    matruong_1.append(i)\n",
    "print(matruong_1[301])\n",
    "print(matruong[301])\n",
    "df=pd.DataFrame(matruong_1)\n",
    "df.to_csv(\"Ma_truong.csv\")\n",
    "# df= pd.DataFrame(matruong)\n",
    "# #print(df[0][1])\n",
    "# #print(df[0])\n",
    "# for i in range(len(df)):\n",
    "#         print(df.iloc[i,0])"
   ]
  },
  {
   "cell_type": "code",
   "execution_count": null,
   "metadata": {},
   "outputs": [],
   "source": [
    "import pandas as pd\n",
    "\n",
    "# Đọc dữ liệu từ tệp văn bản\n",
    "with open('file.txt', 'r', encoding='utf-8') as file:\n",
    "    lines = file.readlines()\n",
    "\n",
    "# Định nghĩa hàm xử lý chuỗi để thay thế '-' bằng '=' và xóa phần sau '-'\n",
    "def process_text(text):\n",
    "    parts = text.split(' - ')  # Tách phần trước và sau dấu ' - '\n",
    "    result = parts[0].replace('-', '=')  # Thay thế '-' bằng '='\n",
    "    return result\n",
    "\n",
    "# Áp dụng hàm xử lý cho từng dòng\n",
    "processed_lines = [process_text(line.strip()) for line in lines]\n",
    "\n",
    "# Tạo DataFrame từ danh sách kết quả đã xử lý\n",
    "df = pd.DataFrame(processed_lines, columns=['Tên Trường'])\n",
    "\n",
    "# In kết quả\n",
    "print(df)\n",
    "\n"
   ]
  }
 ],
 "metadata": {
  "kernelspec": {
   "display_name": "sic",
   "language": "python",
   "name": "python3"
  },
  "language_info": {
   "codemirror_mode": {
    "name": "ipython",
    "version": 3
   },
   "file_extension": ".py",
   "mimetype": "text/x-python",
   "name": "python",
   "nbconvert_exporter": "python",
   "pygments_lexer": "ipython3",
   "version": "3.7.1"
  }
 },
 "nbformat": 4,
 "nbformat_minor": 2
}
